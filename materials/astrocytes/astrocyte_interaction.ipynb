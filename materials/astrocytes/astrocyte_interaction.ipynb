{
  "cells": [
    {
      "cell_type": "markdown",
      "metadata": {},
      "source": [
        "\n",
        "# A tripartite interaction between two neurons and one astrocyte\n",
        "\n",
        "This script simulates a tripartite interaction between two neurons and one\n",
        "astrocyte. This interaction is part of the astrocyte biology described in\n",
        "[1]_ that involves the neuron-astrocyte glutamate signaling and the astrocytic\n",
        "calcium dynamics.\n",
        "\n",
        "``astrocyte_lr_1994`` is used to model the astrocyte, which implements the\n",
        "dynamics in the astrocyte based on the articles [2]_, [3]_, and [4]_.\n",
        "``tsodyks_synapse`` is used to create connections from the presynaptic neuron\n",
        "to the postsynaptic neuron, and from the presynaptic neuron to the astrocyte.\n",
        "``sic_connection`` is used to create a connection from the astrocyte to the\n",
        "postsynaptic neuron. Recordings are made for the following variables: membrance\n",
        "voltage of the presynaptic neuron, inositol 1,4,5-trisphosphate (IP3), and\n",
        "calcium in the astrocyte, and slow inward current (SIC) in the postsynaptic\n",
        "neuron. The result demonstrates a tripartite interaction where the presynaptic\n",
        "spikes induce changes in IP3 and calcium in the astrocyte, which then induces\n",
        "the generation of SIC in the postsynaptic neuron.\n",
        "\n",
        "## See Also\n",
        "\n",
        ":doc:`astrocyte_single`\n",
        "\n",
        "## References\n",
        "\n",
        ".. [1] Bazargani, N., & Attwell, D. (2016). Astrocyte calcium signaling: the\n",
        "       third wave. Nature neuroscience, 19(2), 182-189. DOI:\n",
        "       https://doi.org/10.1038/nn.4201\n",
        "\n",
        ".. [2] Li, Y. X., & Rinzel, J. (1994). Equations for InsP3 receptor-mediated\n",
        "       [Ca2+]i oscillations derived from a detailed kinetic model: a\n",
        "       Hodgkin-Huxley like formalism. Journal of theoretical Biology, 166(4),\n",
        "       461-473. DOI: https://doi.org/10.1006/jtbi.1994.1041\n",
        "\n",
        ".. [3] De Young, G. W., & Keizer, J. (1992). A single-pool inositol\n",
        "       1,4,5-trisphosphate-receptor-based model for agonist-stimulated\n",
        "       oscillations in Ca2+ concentration. Proceedings of the National Academy\n",
        "       of Sciences, 89(20), 9895-9899. DOI:\n",
        "       https://doi.org/10.1073/pnas.89.20.9895\n",
        "\n",
        ".. [4] Nadkarni, S., & Jung, P. (2003). Spontaneous oscillations of dressed\n",
        "       neurons: a new mechanism for epilepsy?. Physical review letters, 91(26),\n",
        "       268101. DOI: https://doi.org/10.1103/PhysRevLett.91.268101\n"
      ]
    },
    {
      "cell_type": "markdown",
      "metadata": {},
      "source": [
        "Import all necessary modules for simulation and plotting.\n",
        "\n"
      ]
    },
    {
      "cell_type": "code",
      "execution_count": 2,
      "metadata": {
        "collapsed": false
      },
      "outputs": [
        {
          "name": "stdout",
          "output_type": "stream",
          "text": [
            "\n",
            "              -- N E S T --\n",
            "  Copyright (C) 2004 The NEST Initiative\n",
            "\n",
            " Version: 3.7.0\n",
            " Built: Jul  3 2024 16:20:02\n",
            "\n",
            " This program is provided AS IS and comes with\n",
            " NO WARRANTY. See the file LICENSE for details.\n",
            "\n",
            " Problems or suggestions?\n",
            "   Visit https://www.nest-simulator.org\n",
            "\n",
            " Type 'nest.help()' to find out more about NEST.\n",
            "\n"
          ]
        }
      ],
      "source": [
        "import matplotlib.pyplot as plt\n",
        "import nest"
      ]
    },
    {
      "cell_type": "markdown",
      "metadata": {},
      "source": [
        "Set parameters for the simulation.\n",
        "\n"
      ]
    },
    {
      "cell_type": "code",
      "execution_count": 4,
      "metadata": {
        "collapsed": false
      },
      "outputs": [],
      "source": [
        "nest.ResetKernel()\n",
        "# simulation time\n",
        "sim_time = 60000\n",
        "# Poisson input for the presynaptic neuron\n",
        "poisson_rate_neuro = 1500            # units in Hz\n",
        "# neuron parameters\n",
        "params_neuro = {\"tau_syn_ex\": 2.0}                   # TODO: you may change the default parameters\n",
        "# astrocyte parameters\n",
        "params_astro = {}                   # TODO: you may change the default parameters\n",
        "# weights of connections\n",
        "w_pre2astro = 1.0\n",
        "w_pre2post = 1.0\n",
        "w_astro2post = 1.0"
      ]
    },
    {
      "cell_type": "markdown",
      "metadata": {},
      "source": [
        "Create and connect the astrocyte and its devices.\n",
        "\n"
      ]
    },
    {
      "cell_type": "code",
      "execution_count": 5,
      "metadata": {
        "collapsed": false
      },
      "outputs": [
        {
          "ename": "TypeError",
          "evalue": "Create() missing 1 required positional argument: 'model'",
          "output_type": "error",
          "traceback": [
            "\u001b[0;31m---------------------------------------------------------------------------\u001b[0m",
            "\u001b[0;31mTypeError\u001b[0m                                 Traceback (most recent call last)",
            "Cell \u001b[0;32mIn[5], line 1\u001b[0m\n\u001b[0;32m----> 1\u001b[0m astrocyte \u001b[38;5;241m=\u001b[39m \u001b[43mnest\u001b[49m\u001b[38;5;241;43m.\u001b[39;49m\u001b[43mCreate\u001b[49m\u001b[43m(\u001b[49m\u001b[43m)\u001b[49m\n\u001b[1;32m      2\u001b[0m mm_astro \u001b[38;5;241m=\u001b[39m nest\u001b[38;5;241m.\u001b[39mCreate(\u001b[38;5;124m\"\u001b[39m\u001b[38;5;124mmultimeter\u001b[39m\u001b[38;5;124m\"\u001b[39m, params\u001b[38;5;241m=\u001b[39m{\u001b[38;5;124m\"\u001b[39m\u001b[38;5;124mrecord_from\u001b[39m\u001b[38;5;124m\"\u001b[39m: [\u001b[38;5;124m\"\u001b[39m\u001b[38;5;124mIP3\u001b[39m\u001b[38;5;124m\"\u001b[39m, \u001b[38;5;124m\"\u001b[39m\u001b[38;5;124mCa_astro\u001b[39m\u001b[38;5;124m\"\u001b[39m]})\n\u001b[1;32m      3\u001b[0m nest\u001b[38;5;241m.\u001b[39mConnect(mm_astro, astrocyte)\n",
            "File \u001b[0;32m~/Venvs/nest-3.7-venv/lib/python3.10/site-packages/nest/ll_api.py:216\u001b[0m, in \u001b[0;36mstack_checker.<locals>.stack_checker_func\u001b[0;34m(*args, **kwargs)\u001b[0m\n\u001b[1;32m    213\u001b[0m \u001b[38;5;129m@functools\u001b[39m\u001b[38;5;241m.\u001b[39mwraps(f)\n\u001b[1;32m    214\u001b[0m \u001b[38;5;28;01mdef\u001b[39;00m \u001b[38;5;21mstack_checker_func\u001b[39m(\u001b[38;5;241m*\u001b[39margs, \u001b[38;5;241m*\u001b[39m\u001b[38;5;241m*\u001b[39mkwargs):\n\u001b[1;32m    215\u001b[0m     \u001b[38;5;28;01mif\u001b[39;00m \u001b[38;5;129;01mnot\u001b[39;00m get_debug():\n\u001b[0;32m--> 216\u001b[0m         \u001b[38;5;28;01mreturn\u001b[39;00m \u001b[43mf\u001b[49m\u001b[43m(\u001b[49m\u001b[38;5;241;43m*\u001b[39;49m\u001b[43margs\u001b[49m\u001b[43m,\u001b[49m\u001b[43m \u001b[49m\u001b[38;5;241;43m*\u001b[39;49m\u001b[38;5;241;43m*\u001b[39;49m\u001b[43mkwargs\u001b[49m\u001b[43m)\u001b[49m\n\u001b[1;32m    217\u001b[0m     \u001b[38;5;28;01melse\u001b[39;00m:\n\u001b[1;32m    218\u001b[0m         sr(\u001b[38;5;124m\"\u001b[39m\u001b[38;5;124mcount\u001b[39m\u001b[38;5;124m\"\u001b[39m)\n",
            "\u001b[0;31mTypeError\u001b[0m: Create() missing 1 required positional argument: 'model'"
          ]
        }
      ],
      "source": [
        "astrocyte = nest.Create()     # TODO: define astrocyte\n",
        "mm_astro = nest.Create()      # TODO: define multimeter for recording internal states from the astrocyte, hint: list options with nest.GetDefaults()\n",
        "nest.Connect()                # TODO: connect multimeter to the astrocyte"
      ]
    },
    {
      "cell_type": "markdown",
      "metadata": {},
      "source": [
        "Create and connect the neurons and their devices.\n",
        "\n"
      ]
    },
    {
      "cell_type": "code",
      "execution_count": null,
      "metadata": {
        "collapsed": false
      },
      "outputs": [],
      "source": [
        "pre_neuron = nest.Create()        # TODO: define neuron model, hint: use nest.Models(mtype=\"nodes\", sel=\"astro\") or nest.node_models to see options\n",
        "post_neuron = nest.Create()       # TODO\n",
        "ps_pre = nest.Create()            # TODO: define Poisson spike generator\n",
        "mm_pre = nest.Create()            # TODO: create device for recording membrane voltage\n",
        "mm_post = nest.Create()           # TODO: create device for recording the slow inward current\n",
        "nest.Connect(ps_pre, pre_neuron)\n",
        "nest.Connect(mm_pre, pre_neuron)\n",
        "nest.Connect(mm_post, post_neuron)"
      ]
    },
    {
      "cell_type": "markdown",
      "metadata": {},
      "source": [
        "Create tripartite connectivity.\n",
        "\n"
      ]
    },
    {
      "cell_type": "code",
      "execution_count": null,
      "metadata": {
        "collapsed": false
      },
      "outputs": [],
      "source": [
        "nest.Connect(pre_neuron, post_neuron, syn_spec={\"weight\": w_pre2post})\n",
        "nest.Connect(pre_neuron, astrocyte, syn_spec={\"weight\": w_pre2astro})\n",
        "nest.Connect(astrocyte, post_neuron, syn_spec={\"synapse_model\": \"sic_connection\", \"weight\": w_astro2post})"
      ]
    },
    {
      "cell_type": "markdown",
      "metadata": {},
      "source": [
        "Run simulation and get results.\n",
        "\n"
      ]
    },
    {
      "cell_type": "code",
      "execution_count": null,
      "metadata": {
        "collapsed": false
      },
      "outputs": [],
      "source": [
        "nest.Simulate(sim_time)\n",
        "data_pre = mm_pre.events\n",
        "data_post = mm_post.events\n",
        "data_astro = mm_astro.events"
      ]
    },
    {
      "cell_type": "markdown",
      "metadata": {},
      "source": [
        "Create and show plots.\n",
        "\n"
      ]
    },
    {
      "cell_type": "code",
      "execution_count": 6,
      "metadata": {
        "collapsed": false
      },
      "outputs": [
        {
          "ename": "NameError",
          "evalue": "name 'data_pre' is not defined",
          "output_type": "error",
          "traceback": [
            "\u001b[0;31m---------------------------------------------------------------------------\u001b[0m",
            "\u001b[0;31mNameError\u001b[0m                                 Traceback (most recent call last)",
            "Cell \u001b[0;32mIn[6], line 3\u001b[0m\n\u001b[1;32m      1\u001b[0m fig, ax \u001b[38;5;241m=\u001b[39m plt\u001b[38;5;241m.\u001b[39msubplots(\u001b[38;5;241m2\u001b[39m, \u001b[38;5;241m2\u001b[39m, sharex\u001b[38;5;241m=\u001b[39m\u001b[38;5;28;01mTrue\u001b[39;00m, figsize\u001b[38;5;241m=\u001b[39m(\u001b[38;5;241m6.4\u001b[39m, \u001b[38;5;241m4.8\u001b[39m), dpi\u001b[38;5;241m=\u001b[39m\u001b[38;5;241m100\u001b[39m)\n\u001b[1;32m      2\u001b[0m axes \u001b[38;5;241m=\u001b[39m ax\u001b[38;5;241m.\u001b[39mflat\n\u001b[0;32m----> 3\u001b[0m axes[\u001b[38;5;241m0\u001b[39m]\u001b[38;5;241m.\u001b[39mplot(\u001b[43mdata_pre\u001b[49m[\u001b[38;5;124m\"\u001b[39m\u001b[38;5;124mtimes\u001b[39m\u001b[38;5;124m\"\u001b[39m]\u001b[38;5;241m/\u001b[39m\u001b[38;5;241m1000\u001b[39m, data_pre[\u001b[38;5;124m\"\u001b[39m\u001b[38;5;124mV_m\u001b[39m\u001b[38;5;124m\"\u001b[39m])\n\u001b[1;32m      4\u001b[0m axes[\u001b[38;5;241m1\u001b[39m]\u001b[38;5;241m.\u001b[39mplot(data_astro[\u001b[38;5;124m\"\u001b[39m\u001b[38;5;124mtimes\u001b[39m\u001b[38;5;124m\"\u001b[39m]\u001b[38;5;241m/\u001b[39m\u001b[38;5;241m1000\u001b[39m, data_astro[\u001b[38;5;124m\"\u001b[39m\u001b[38;5;124mIP3\u001b[39m\u001b[38;5;124m\"\u001b[39m])\n\u001b[1;32m      5\u001b[0m axes[\u001b[38;5;241m2\u001b[39m]\u001b[38;5;241m.\u001b[39mplot(data_post[\u001b[38;5;124m\"\u001b[39m\u001b[38;5;124mtimes\u001b[39m\u001b[38;5;124m\"\u001b[39m]\u001b[38;5;241m/\u001b[39m\u001b[38;5;241m1000\u001b[39m, data_post[\u001b[38;5;124m\"\u001b[39m\u001b[38;5;124mI_SIC\u001b[39m\u001b[38;5;124m\"\u001b[39m])\n",
            "\u001b[0;31mNameError\u001b[0m: name 'data_pre' is not defined"
          ]
        },
        {
          "data": {
            "image/png": "[encoded data removed]",
            "text/plain": [
              "<Figure size 640x480 with 4 Axes>"
            ]
          },
          "metadata": {},
          "output_type": "display_data"
        }
      ],
      "source": [
        "fig, ax = plt.subplots(2, 2, sharex=True, figsize=(6.4, 4.8), dpi=100)\n",
        "axes = ax.flat\n",
        "axes[0].plot(data_pre[\"times\"]/1000, data_pre[\"V_m\"])\n",
        "axes[1].plot(data_astro[\"times\"]/1000, data_astro[\"IP3\"])\n",
        "axes[2].plot(data_post[\"times\"]/1000, data_post[\"I_SIC\"])\n",
        "axes[3].plot(data_astro[\"times\"]/1000, data_astro[\"Ca_astro\"])\n",
        "axes[0].set_title(f\"Presynaptic neuron\\n(Poisson rate = {poisson_rate_neuro} Hz)\")\n",
        "axes[0].set_ylabel(\"Membrane potential (mV)\")\n",
        "axes[2].set_title(\"Postsynaptic neuron\")\n",
        "axes[2].set_ylabel(\"Slow inward current (pA)\")\n",
        "axes[2].set_xlabel(\"Time (s)\")\n",
        "axes[1].set_title(\"Astrocyte\")\n",
        "axes[1].set_ylabel(r\"[IP$_{3}$] ($\\mu$M)\")\n",
        "axes[3].set_ylabel(r\"[Ca$^{2+}$] ($\\mu$M)\")\n",
        "axes[3].set_xlabel(\"Time (s)\")\n",
        "plt.tight_layout()\n",
        "plt.show()\n",
        "plt.close()"
      ]
    }
  ],
  "metadata": {
    "kernelspec": {
      "display_name": "Python 3",
      "language": "python",
      "name": "python3"
    },
    "language_info": {
      "codemirror_mode": {
        "name": "ipython",
        "version": 3
      },
      "file_extension": ".py",
      "mimetype": "text/x-python",
      "name": "python",
      "nbconvert_exporter": "python",
      "pygments_lexer": "ipython3",
      "version": "3.10.12"
    }
  },
  "nbformat": 4,
  "nbformat_minor": 0
}
