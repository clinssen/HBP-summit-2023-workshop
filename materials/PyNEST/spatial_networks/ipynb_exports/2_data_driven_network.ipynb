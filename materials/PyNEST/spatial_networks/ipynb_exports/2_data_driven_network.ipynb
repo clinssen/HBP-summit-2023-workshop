{
 "cells": [
  {
   "cell_type": "markdown",
   "id": "2e635a3d",
   "metadata": {},
   "source": [
    "# PyNEST – Visual Cortex Model"
   ]
  },
  {
   "cell_type": "markdown",
   "id": "d8cae82b",
   "metadata": {},
   "source": [
    "**Modeling networks of spiking neurons with spatial connectivity using NEST**\n",
    "\n",
    "**CNS 2022, 16.07.2022**\n",
    "\n",
    "**Tutor: [Jasper Albers](mailto:j.albers@fz-juelich.de)**"
   ]
  },
  {
   "cell_type": "markdown",
   "id": "aabaaad5",
   "metadata": {},
   "source": [
    "<table><tr>\n",
    "<td> \n",
    "    <div style=\"text-align:center\">\n",
    "        <img src=\"img/balaram_2014.png\" alt=\"histology\" width=\"150\" align=\"center\"/> <br />\n",
    "    Balaram et al. (2014): Histological features of layers and sublayers in cortical visual areas V1 and V2 of chimpanzees, macaque monkeys, and humans </div>\n",
    "</td>\n",
    "   \n",
    "<td> \n",
    "    <img width=\"200\"/>\n",
    "</td>\n",
    "    \n",
    "<td> \n",
    "    <div style=\"text-align:center\">\n",
    "        <img src=\"img/potjans_2014.png\" alt=\"flow of activity\" width=\"400\" align=\"center\"/> <br />\n",
    "    Potjans and Diesmann (2014): The Cell-Type Specific Cortical Microcircuit: Relating Structure and Activity in a Full-Scale Spiking Network Model </div>\n",
    "</td>\n",
    "    \n",
    "</tr></table>"
   ]
  },
  {
   "cell_type": "markdown",
   "id": "b9fa4c4a",
   "metadata": {},
   "source": [
    "In this notebook we will construct a simple model of visual cortex using spatial connectivity and a data-driven approach. We want to include the first two stages of visual processing, modeling four neuronal populations: excitatory and inhibitory neurons of both layer 4 and layer 2/3. The former is associated with receiving input from lower cortical areas; in the case of the primary visual cortex, this can be the thalamus relaying information from the retina. The latter is the main target of layer 4 neurons."
   ]
  },
  {
   "cell_type": "markdown",
   "id": "7e60e396",
   "metadata": {},
   "source": [
    "<div style=\"text-align:center\">\n",
    "        <img src=\"img/visual_cortex_model.png\" alt=\"histology\" width=\"650\" align=\"center\"/> <br />\n",
    "    Architecture of our network model of visual cortex. </div>"
   ]
  },
  {
   "cell_type": "code",
   "execution_count": null,
   "id": "78937e74",
   "metadata": {},
   "outputs": [],
   "source": [
    "import numpy as np\n",
    "import matplotlib.pyplot as plt\n",
    "%matplotlib notebook\n",
    "\n",
    "# import NEST & NEST rasterplot\n",
    "import nest\n",
    "import nest.raster_plot"
   ]
  },
  {
   "cell_type": "code",
   "execution_count": null,
   "id": "3afbff09",
   "metadata": {},
   "outputs": [],
   "source": [
    "def beautify_plot(title=None, fig=None):\n",
    "    plt.xticks([-0.5, 0, 0.5])\n",
    "    plt.xlabel('cortical space x [mm]')\n",
    "    plt.yticks([-0.5, 0, 0.5])\n",
    "    plt.ylabel('cortical space y [mm]')\n",
    "    plt.xlim(-0.5,0.5)\n",
    "    plt.ylim(-0.5,0.5)\n",
    "    if title:\n",
    "        plt.title(title, figure=fig)"
   ]
  },
  {
   "cell_type": "markdown",
   "id": "c7bc4656",
   "metadata": {},
   "source": [
    "___\n",
    "## Setup"
   ]
  },
  {
   "cell_type": "markdown",
   "id": "71126275",
   "metadata": {},
   "source": [
    "### Define parameters"
   ]
  },
  {
   "cell_type": "markdown",
   "id": "7861fbd0",
   "metadata": {},
   "source": [
    "#### Simulation parameters"
   ]
  },
  {
   "cell_type": "code",
   "execution_count": null,
   "id": "7788e32e",
   "metadata": {},
   "outputs": [],
   "source": [
    "simtime = 5000.            # simulation time (ms)"
   ]
  },
  {
   "cell_type": "markdown",
   "id": "96f40aae",
   "metadata": {},
   "source": [
    "#### Network parameters\n",
    "\n",
    "We now want to employ a data-driven approach, using data from experimental studies of the brain that report, e.g., neuron and synapse densities as well as termination patterns for specifying the connectivity."
   ]
  },
  {
   "cell_type": "code",
   "execution_count": null,
   "id": "3419878e",
   "metadata": {},
   "outputs": [],
   "source": [
    "populations = ['L2/3E', 'L2/3I', 'L4E', 'L4I']\n",
    "scaling = 0.1    # scaling down the true number of neurons"
   ]
  },
  {
   "cell_type": "code",
   "execution_count": null,
   "id": "e7993c85",
   "metadata": {},
   "outputs": [],
   "source": [
    "num_neurons_all_layers = np.load('data/num_neurons_V1_1mm2.npy') # number of neurons per 1mm2 in macaque V1\n",
    "\n",
    "num_neurons_all_layers *= scaling\n",
    "\n",
    "num_neurons = {\n",
    "    'L2/3E': int(num_neurons_all_layers[0, 0]),\n",
    "    'L2/3I': int(num_neurons_all_layers[0, 1]),\n",
    "    'L4E': int(num_neurons_all_layers[1, 0]),\n",
    "    'L4I': int(num_neurons_all_layers[1, 1])\n",
    "}"
   ]
  },
  {
   "cell_type": "markdown",
   "id": "1564dd39",
   "metadata": {},
   "source": [
    "Rather than using indegrees, we use pre-computed connection probabilities between all four populations of the model. Computing these probabilities a task of its own as different tracing studies have to be combined. Here, we simply assume this work has already been done as we want to focus on the model building."
   ]
  },
  {
   "cell_type": "code",
   "execution_count": null,
   "id": "c7af38c5",
   "metadata": {},
   "outputs": [],
   "source": [
    "connection_probs = np.load('data/connection_probs.npy')    # connection probabilities, index: [target, source]"
   ]
  },
  {
   "cell_type": "markdown",
   "id": "79ccaa68",
   "metadata": {},
   "source": [
    "Let us have a look at how this connectivity looks like."
   ]
  },
  {
   "cell_type": "code",
   "execution_count": null,
   "id": "07d11705",
   "metadata": {},
   "outputs": [],
   "source": [
    "import seaborn as sns\n",
    "fig, ax = plt.subplots()\n",
    "sns.heatmap(connection_probs)\n",
    "ax.set_xticklabels(populations)\n",
    "ax.set_yticklabels(populations)\n",
    "ax.set_xlabel('Source population')\n",
    "ax.set_ylabel('Target population')\n",
    "ax.set_title('Zero-distance connection probabilities')"
   ]
  },
  {
   "cell_type": "markdown",
   "id": "cccf4cc8",
   "metadata": {},
   "source": [
    "#### Neuron parameters"
   ]
  },
  {
   "cell_type": "markdown",
   "id": "40acdcba",
   "metadata": {},
   "source": [
    "Here, we are using neuron parameters obtained from the [Cell Type Atlas](https://celltypes.brain-map.org/data) by the Allen Institute for Brain Science which reports physiological recordings of single neurons."
   ]
  },
  {
   "cell_type": "code",
   "execution_count": null,
   "id": "482e9cbf",
   "metadata": {},
   "outputs": [],
   "source": [
    "neuron_params = {\n",
    "    'C_m': np.exp(5.54 + 0.57**2 / 2),      # membrane capacity (pF)\n",
    "    'E_L': -70.52,                          # resting membrane potential (mV)\n",
    "    'V_m': -58.,                            # initial membrane potential (mV)\n",
    "    'V_reset': -70.52,                      # reset membrane potential after a spike (mV)\n",
    "    'V_th': -70.52 + 27.15,                 # spike threshold\n",
    "    't_ref': 2.0,                           # refractory period (ms)\n",
    "    'tau_m': 3.42,                          # membrane time constant (ms)\n",
    "}"
   ]
  },
  {
   "cell_type": "markdown",
   "id": "31a8c081",
   "metadata": {},
   "source": [
    "#### Synapse parameters"
   ]
  },
  {
   "cell_type": "code",
   "execution_count": null,
   "id": "b77fbba5",
   "metadata": {},
   "outputs": [],
   "source": [
    "w = 1.36 / scaling                   # excitatory synaptic weight (mV)\n",
    "g = 6.                               # relative inhibitory to excitatory synaptic weight\n",
    "d = 1.5                              # synaptic transmission delay (ms)"
   ]
  },
  {
   "cell_type": "markdown",
   "id": "af6c895f",
   "metadata": {},
   "source": [
    "#### External input parameters"
   ]
  },
  {
   "cell_type": "code",
   "execution_count": null,
   "id": "3be8ed42",
   "metadata": {},
   "outputs": [],
   "source": [
    "p_rate = 8.       # external rate (spikes/s)"
   ]
  },
  {
   "cell_type": "markdown",
   "id": "24a9e4b6",
   "metadata": {},
   "source": [
    "### Configure NEST"
   ]
  },
  {
   "cell_type": "code",
   "execution_count": null,
   "id": "451087a2",
   "metadata": {},
   "outputs": [],
   "source": [
    "# configure kernel\n",
    "nest.ResetKernel()\n",
    "nest.SetKernelStatus({'rng_seed': 192873})"
   ]
  },
  {
   "cell_type": "markdown",
   "id": "bade27b8",
   "metadata": {},
   "source": [
    "___\n",
    "## Spatially distributed neurons "
   ]
  },
  {
   "cell_type": "markdown",
   "id": "adc17f67",
   "metadata": {},
   "source": [
    "### Create neurons\n",
    "\n",
    "We want to endow the neurons with the notion of space. This functionality is built right into NEST 3:"
   ]
  },
  {
   "cell_type": "code",
   "execution_count": null,
   "id": "9e8f1645",
   "metadata": {},
   "outputs": [],
   "source": [
    "# set default parameters for neurons and create neurons\n",
    "nest.SetDefaults('iaf_psc_delta', neuron_params)\n",
    "\n",
    "pos = {}\n",
    "layers = {}\n",
    "\n",
    "for pop in populations:\n",
    "    \n",
    "    # define positions via a distribution in space (free, grid and list possible)\n",
    "    pos[pop] =  nest.spatial.free(\n",
    "                    pos=nest.random.uniform(min=-0.5, max=0.5),\n",
    "                    num_dimensions=2,\n",
    "                    edge_wrap=True)\n",
    "\n",
    "    # create layers of spatially distributed neurons according to position objects\n",
    "    layers[pop] = nest.Create('iaf_psc_delta', num_neurons[pop], positions=pos[pop])"
   ]
  },
  {
   "cell_type": "markdown",
   "id": "9a534bc6",
   "metadata": {},
   "source": [
    "Below we can check what these layers look like in 2D space."
   ]
  },
  {
   "cell_type": "code",
   "execution_count": null,
   "id": "631afec3",
   "metadata": {},
   "outputs": [],
   "source": [
    "plot_e = nest.PlotLayer(layers['L2/3E'], nodecolor='cornflowerblue')\n",
    "beautify_plot(title='excitatory neurons of L2/3', fig=plot_e)\n",
    "\n",
    "plot_i = nest.PlotLayer(layers['L2/3I'], nodecolor='tomato')\n",
    "beautify_plot(title='inhibitory neurons of L2/3', fig=plot_i)"
   ]
  },
  {
   "cell_type": "markdown",
   "id": "462fa0fa",
   "metadata": {},
   "source": [
    "### Create connections\n",
    "\n",
    "Our neurons are now arranged in 2D layers. What will happen if we use a standard, random connection method?"
   ]
  },
  {
   "cell_type": "code",
   "execution_count": null,
   "id": "c08e67bd",
   "metadata": {},
   "outputs": [],
   "source": [
    "# synapse specification\n",
    "syn = {\n",
    "    'E': {'delay': d, 'weight': w},\n",
    "    'I': {'delay': d, 'weight': - g * w}\n",
    "}"
   ]
  },
  {
   "cell_type": "markdown",
   "id": "b9edfe5f",
   "metadata": {},
   "source": [
    "We now want to take the connectivity data and connect the neuronal populations according to an exponential profile:\n",
    "\n",
    "$$p(x) = p_0 e^{-x/\\beta}$$\n",
    "\n",
    "where $x$ is the horizontal distance of a target neuron to the source neuron, and $\\beta$ is the characteristic length of the exponential profile. We obtain $\\beta$ from fitting exponential functions to the layer-specific distribution of outgoing connections measured by Sincich et al. (2001), see image at the top of notebook 1."
   ]
  },
  {
   "cell_type": "code",
   "execution_count": null,
   "id": "bbe79c08",
   "metadata": {},
   "outputs": [],
   "source": [
    "beta_all_layers = np.load('data/beta.npy')    # decay constant of target layers"
   ]
  },
  {
   "cell_type": "code",
   "execution_count": null,
   "id": "813c21c6",
   "metadata": {},
   "outputs": [],
   "source": [
    "beta = {\n",
    "    'L2/3E': beta_all_layers[0, 0],\n",
    "    'L2/3I': beta_all_layers[0, 1],\n",
    "    'L4E': beta_all_layers[1, 0],\n",
    "    'L4I': beta_all_layers[1, 1]\n",
    "}"
   ]
  },
  {
   "cell_type": "code",
   "execution_count": null,
   "id": "a4cec413",
   "metadata": {},
   "outputs": [],
   "source": [
    "for s, source in enumerate(populations):\n",
    "    for t, target in enumerate(populations):\n",
    "        \n",
    "        prob_distribution = nest.spatial_distributions.exponential(\n",
    "                                x = nest.spatial.distance,\n",
    "                                beta = beta[target])\n",
    "\n",
    "        conn = {'rule': 'pairwise_bernoulli',\n",
    "                'p': connection_probs[t, s] * prob_distribution}\n",
    "        \n",
    "        nest.Connect(layers[source], layers[target], conn, syn[source[-1]])"
   ]
  },
  {
   "cell_type": "markdown",
   "id": "7d65204f",
   "metadata": {},
   "source": [
    "Let's see what this connectivity actually looks like in space. "
   ]
  },
  {
   "cell_type": "code",
   "execution_count": null,
   "id": "4afe810c",
   "metadata": {},
   "outputs": [],
   "source": [
    "fig_e = nest.PlotLayer(layers['L4E'], nodecolor='cornflowerblue', nodesize=40)\n",
    "\n",
    "source = layers['L4E'][3]\n",
    "target_plot = nest.PlotTargets(source, layers['L4E'], fig=fig_e,\n",
    "                 src_size=250, tgt_color='indigo', tgt_size=20,\n",
    "                 probability_cmap='Purples')\n",
    "beautify_plot(title='excitatory neurons of L4', fig=fig_e)"
   ]
  },
  {
   "cell_type": "code",
   "execution_count": null,
   "id": "642f79bd",
   "metadata": {},
   "outputs": [],
   "source": [
    "fig_i = nest.PlotLayer(layers['L4I'], nodecolor='tomato', nodesize=80)\n",
    "\n",
    "source = layers['L4I'][5]\n",
    "target_plot = nest.PlotTargets(source, layers['L4I'], fig=fig_i,\n",
    "                 src_size=250, tgt_color='indigo', tgt_size=20)\n",
    "\n",
    "beautify_plot(title='inhibitory neurons of L4', fig=fig_i)"
   ]
  },
  {
   "cell_type": "markdown",
   "id": "2e918110",
   "metadata": {},
   "source": [
    "## Simulate and analyze\n",
    "\n",
    "External input is again represented as Poisson input."
   ]
  },
  {
   "cell_type": "code",
   "execution_count": null,
   "id": "12c174ea",
   "metadata": {},
   "outputs": [],
   "source": [
    "# create poisson generator and set 'rate' to p_rate\n",
    "pgen = nest.Create('poisson_generator', params={'rate': p_rate})\n",
    "\n",
    "# create spike recorder\n",
    "spikes = {}\n",
    "for pop in populations:\n",
    "    spikes[pop] = nest.Create('spike_recorder')"
   ]
  },
  {
   "cell_type": "code",
   "execution_count": null,
   "id": "2f6e3193",
   "metadata": {},
   "outputs": [],
   "source": [
    "# connect poisson generator using the excitatory connection weight\n",
    "for pop in populations:\n",
    "    nest.Connect(pgen, layers[pop], syn_spec=syn['E'])"
   ]
  },
  {
   "cell_type": "markdown",
   "id": "81d8926f",
   "metadata": {},
   "source": [
    "Recording works by connecting the populations to recording devices."
   ]
  },
  {
   "cell_type": "code",
   "execution_count": null,
   "id": "4fa6830d",
   "metadata": {},
   "outputs": [],
   "source": [
    "# connect excitatory / inhibitory neurons to spike recorder\n",
    "for pop in populations:\n",
    "    nest.Connect(layers[pop], spikes[pop])"
   ]
  },
  {
   "cell_type": "markdown",
   "id": "034cbd9f",
   "metadata": {},
   "source": [
    "#### Stimulus propagation"
   ]
  },
  {
   "cell_type": "code",
   "execution_count": null,
   "id": "14307928",
   "metadata": {},
   "outputs": [],
   "source": [
    "stimulus = False"
   ]
  },
  {
   "cell_type": "code",
   "execution_count": null,
   "id": "998aedeb",
   "metadata": {},
   "outputs": [],
   "source": [
    "if stimulus:\n",
    "    stim = nest.Create('poisson_generator',\n",
    "                       params={'rate': p_rate / 1.7,\n",
    "                               'start': 1000.,\n",
    "                               'stop': 2000.})\n",
    "\n",
    "    nest.Connect(stim, layers['L4E'], syn_spec=syn['E'])\n",
    "    nest.Connect(stim, layers['L4I'], syn_spec=syn['E'])\n",
    "    \n",
    "def show_stimulus():\n",
    "    plt.fill_between([1000, 2000], 0, 1e5, color='mediumseagreen', alpha=0.3, label='stimulus')\n",
    "    plt.legend(loc='upper right')"
   ]
  },
  {
   "cell_type": "code",
   "execution_count": null,
   "id": "89b2a3b1",
   "metadata": {},
   "outputs": [],
   "source": [
    "# simulate\n",
    "nest.Simulate(simtime) "
   ]
  },
  {
   "cell_type": "markdown",
   "id": "0e764032",
   "metadata": {},
   "source": [
    "Creating a raster plot gives a visual representation of the network activity."
   ]
  },
  {
   "cell_type": "code",
   "execution_count": null,
   "id": "8f09133e",
   "metadata": {},
   "outputs": [],
   "source": [
    "# raster plot of spiking activity using nest.raster_plot\n",
    "nest.raster_plot.from_device(spikes['L4E'], hist=False, title='spiking activity of L4 excitatory neurons')\n",
    "plt.xlim(0, 5000)\n",
    "plt.ylim(num_neurons['L2/3E'] + num_neurons['L2/3I'],\n",
    "         num_neurons['L2/3E'] + num_neurons['L2/3I'] + num_neurons['L4E'])\n",
    "if stimulus:\n",
    "    show_stimulus()\n",
    "\n",
    "nest.raster_plot.from_device(spikes['L4I'], hist=False, title='spiking activity of L4 inhibitory neurons')\n",
    "plt.xlim(0, 5000)\n",
    "plt.ylim(num_neurons['L2/3E'] + num_neurons['L2/3I'] + num_neurons['L4E'],\n",
    "         num_neurons['L2/3E'] + num_neurons['L2/3I'] + num_neurons['L4E'] + num_neurons['L4I'])\n",
    "if stimulus:\n",
    "    show_stimulus()"
   ]
  },
  {
   "cell_type": "code",
   "execution_count": null,
   "id": "913c8fdf",
   "metadata": {
    "lines_to_next_cell": 0
   },
   "outputs": [],
   "source": [
    "# raster plot of spiking activity using nest.raster_plot\n",
    "nest.raster_plot.from_device(spikes['L2/3E'], hist=False, title='spiking activity of L2/3 excitatory neurons')\n",
    "plt.xlim(0, 5000)\n",
    "plt.ylim(0, num_neurons['L2/3E'])\n",
    "if stimulus:\n",
    "    show_stimulus()\n",
    "    \n",
    "nest.raster_plot.from_device(spikes['L2/3I'], hist=False, title='spiking activity of L2/3 inhibitory neurons')\n",
    "plt.xlim(0, 5000)\n",
    "plt.ylim(num_neurons['L2/3E'], num_neurons['L2/3E'] + num_neurons['L2/3I'])\n",
    "if stimulus:\n",
    "    show_stimulus()"
   ]
  },
  {
   "cell_type": "markdown",
   "id": "e87ca2d7",
   "metadata": {
    "lines_to_next_cell": 2
   },
   "source": [
    "What happens when we set `stimulus = True` in the cell a few cells above? Does the activity propagate to layer 2/3 even though the stimulus only targets layer 4?\n",
    "Note: \"Restart kernel and re-run the whole notebook\" after setting `stimulus = True`."
   ]
  }
 ],
 "metadata": {
  "jupytext": {
   "encoding": "# -*- coding: utf-8 -*-"
  },
  "kernelspec": {
   "display_name": "Python 3",
   "language": "python",
   "name": "python3"
  }
 },
 "nbformat": 4,
 "nbformat_minor": 5
}
