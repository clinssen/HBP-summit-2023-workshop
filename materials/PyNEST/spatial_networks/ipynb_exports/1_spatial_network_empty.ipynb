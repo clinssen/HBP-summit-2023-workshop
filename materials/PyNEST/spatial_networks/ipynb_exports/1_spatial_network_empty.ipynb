{
 "cells": [
  {
   "cell_type": "markdown",
   "id": "f3db4477",
   "metadata": {},
   "source": [
    "# PyNEST – Spatial Networks"
   ]
  },
  {
   "cell_type": "markdown",
   "id": "d157ae5c",
   "metadata": {},
   "source": [
    "**Modeling networks of spiking neurons with spatial connectivity using NEST**\n",
    "\n",
    "**CNS 2022, 16.07.2022**\n",
    "\n",
    "**Tutor: [Jasper Albers](mailto:j.albers@fz-juelich.de)**"
   ]
  },
  {
   "cell_type": "markdown",
   "id": "601ddeb3",
   "metadata": {},
   "source": [
    "<table><tr>\n",
    "<td> \n",
    "    <div style=\"text-align:center\">\n",
    "        <img src=\"img/sincich_2001.png\" alt=\"spatial connectivity\" width=\"1200\" align=\"left\"/> <br />\n",
    "    Sincich et al. (2001): Oriented Axon Projections in Primary Visual Cortex of the Monkey </div>\n",
    "</td>\n",
    "   \n",
    "<td> \n",
    "    <img width=\"200\"/>\n",
    "</td>\n",
    "    \n",
    "<td> \n",
    "    <div style=\"text-align:center\">\n",
    "        <img src=\"img/packer_2011.png\" alt=\"exponential profile\" width=\"300\" align=\"center\"/> <br />\n",
    "    Packer et al. (2011): Dense, Unspecific Connectivity of Neocortical Parvalbumin-Positive Interneurons: A Canonical Microcircuit for Inhibition? </div>\n",
    "</td>\n",
    "    \n",
    "</tr></table>"
   ]
  },
  {
   "cell_type": "markdown",
   "id": "41f56252",
   "metadata": {},
   "source": [
    "In this notebook we will adapt the model of \n",
    "\n",
    "`Brunel (2000) Dynamics of sparsely connected networks of excitatory and inhibitory spiking neurons. Journal of Computational Neuroscience 8(3):183-208`\n",
    "\n",
    "to a spatial neural network and investigate the implications on dynamics."
   ]
  },
  {
   "cell_type": "code",
   "execution_count": null,
   "id": "703c4ebc",
   "metadata": {
    "lines_to_next_cell": 2
   },
   "outputs": [],
   "source": [
    "import matplotlib.pyplot as plt\n",
    "%matplotlib notebook\n",
    "\n",
    "# import NEST & NEST rasterplot\n"
   ]
  },
  {
   "cell_type": "code",
   "execution_count": null,
   "id": "200f6b53",
   "metadata": {},
   "outputs": [],
   "source": [
    "def beautify_plot(title=None, fig=None):\n",
    "    plt.xticks([-0.5, 0, 0.5])\n",
    "    plt.xlabel('cortical space x [mm]')\n",
    "    plt.yticks([-0.5, 0, 0.5])\n",
    "    plt.ylabel('cortical space y [mm]')\n",
    "    plt.xlim(-0.5,0.5)\n",
    "    plt.ylim(-0.5,0.5)\n",
    "    if title:\n",
    "        plt.title(title, figure=fig)"
   ]
  },
  {
   "cell_type": "markdown",
   "id": "4fd5f30e",
   "metadata": {},
   "source": [
    "___\n",
    "## Setup"
   ]
  },
  {
   "cell_type": "markdown",
   "id": "9137038e",
   "metadata": {},
   "source": [
    "### Define parameters"
   ]
  },
  {
   "cell_type": "markdown",
   "id": "196643dc",
   "metadata": {},
   "source": [
    "#### Simulation parameters"
   ]
  },
  {
   "cell_type": "code",
   "execution_count": null,
   "id": "a2e421f2",
   "metadata": {},
   "outputs": [],
   "source": [
    "simtime = 10000.                   # simulation time (ms)"
   ]
  },
  {
   "cell_type": "markdown",
   "id": "3905bcfa",
   "metadata": {},
   "source": [
    "#### Network parameters"
   ]
  },
  {
   "cell_type": "code",
   "execution_count": null,
   "id": "c9dc31b7",
   "metadata": {},
   "outputs": [],
   "source": [
    "gamma =                 # relative number of inhibitory connections\n",
    "NE =                    # number of excitatory neurons (10.000 in [1])\n",
    "NI =                    # number of inhibitory neurons"
   ]
  },
  {
   "cell_type": "markdown",
   "id": "292753ca",
   "metadata": {},
   "source": [
    "#### Neuron parameters"
   ]
  },
  {
   "cell_type": "code",
   "execution_count": null,
   "id": "3ef81925",
   "metadata": {},
   "outputs": [],
   "source": [
    "V_th = 20.                 # spike threshold (mV)\n",
    "tau_m = 20.                # membrane time constant (ms)\n",
    "\n",
    "neuron_params = {\n",
    "    'C_m': 1.0,            # membrane capacity (pF)\n",
    "    'E_L': 0.,             # resting membrane potential (mV)\n",
    "    'I_e': 0.,             # external input current (pA)\n",
    "    'V_m': 0.,             # membrane potential (mV)\n",
    "    'V_reset': 10.,        # reset membrane potential after a spike (mV)\n",
    "    'V_th': V_th,          #\n",
    "    't_ref': 2.0,          # refractory period (ms)\n",
    "    'tau_m': tau_m,        #\n",
    "}"
   ]
  },
  {
   "cell_type": "markdown",
   "id": "23b90b51",
   "metadata": {},
   "source": [
    "#### Synapse parameters"
   ]
  },
  {
   "cell_type": "code",
   "execution_count": null,
   "id": "2d3e7c0b",
   "metadata": {},
   "outputs": [],
   "source": [
    "w = 1.                     # excitatory synaptic weight (mV)\n",
    "g = 5.                     # relative inhibitory to excitatory synaptic weight\n",
    "d = 1.5                    # synaptic transmission delay (ms)"
   ]
  },
  {
   "cell_type": "markdown",
   "id": "b5d339aa",
   "metadata": {},
   "source": [
    "#### External input parameters"
   ]
  },
  {
   "cell_type": "code",
   "execution_count": null,
   "id": "36872d16",
   "metadata": {},
   "outputs": [],
   "source": [
    "nu_th = V_th / (w * tau_m) # external rate needed to evoke activity (spikes/ms)\n",
    "nu_ex = 2.0 * nu_th        # set external rate above threshold\n",
    "p_rate = 1e3 * nu_ex       # external rate (spikes/s)"
   ]
  },
  {
   "cell_type": "markdown",
   "id": "b48517c9",
   "metadata": {},
   "source": [
    "### Configure NEST"
   ]
  },
  {
   "cell_type": "code",
   "execution_count": null,
   "id": "727f594e",
   "metadata": {},
   "outputs": [],
   "source": [
    "# configure kernel\n",
    "nest.ResetKernel()"
   ]
  },
  {
   "cell_type": "markdown",
   "id": "49852db7",
   "metadata": {},
   "source": [
    "___\n",
    "## Spatially distributed neurons "
   ]
  },
  {
   "cell_type": "markdown",
   "id": "f42dbc9b",
   "metadata": {},
   "source": [
    "### Create neurons\n",
    "\n",
    "We want to endow the neurons with the notion of space. This functionality is built right into NEST 3:"
   ]
  },
  {
   "cell_type": "code",
   "execution_count": null,
   "id": "fe55cd0f",
   "metadata": {},
   "outputs": [],
   "source": [
    "# set default parameters for neurons and create neurons\n",
    "nest.SetDefaults('iaf_psc_delta', neuron_params)\n",
    "\n",
    "# define positions via a distribution in space (free, grid and list possible)\n",
    "\n",
    "# create layers of spatially distributed neurons according to position objects\n"
   ]
  },
  {
   "cell_type": "markdown",
   "id": "eadc4fed",
   "metadata": {},
   "source": [
    "Below we can check what these layers look like in 2D space."
   ]
  },
  {
   "cell_type": "code",
   "execution_count": null,
   "id": "c24f736c",
   "metadata": {},
   "outputs": [],
   "source": [
    "plot_e = nest.PlotLayer(layer_e, nodecolor='cornflowerblue')\n",
    "beautify_plot(title='excitatory neurons', fig=plot_e)\n",
    "\n",
    "plot_i = nest.PlotLayer(layer_i, nodecolor='tomato')\n",
    "beautify_plot(title='inhibitory neurons', fig=plot_i)"
   ]
  },
  {
   "cell_type": "markdown",
   "id": "3f21b325",
   "metadata": {},
   "source": [
    "### Create connections\n",
    "\n",
    "Our neurons are now arranged in 2D layers. Let's now connect them as in the original model."
   ]
  },
  {
   "cell_type": "code",
   "execution_count": null,
   "id": "936d6b8c",
   "metadata": {},
   "outputs": [],
   "source": [
    "# synapse specification\n",
    "syn_exc = {'delay': d, 'weight': w}\n",
    "syn_inh = {'delay': d, 'weight': - g * w}\n",
    "\n",
    "# connection specification\n",
    "conn_inh = {'rule': 'fixed_indegree', 'indegree': CI}"
   ]
  },
  {
   "cell_type": "markdown",
   "id": "7c2d56a2",
   "metadata": {},
   "source": [
    "Here comes our main modification: spatial connectivity!"
   ]
  },
  {
   "cell_type": "code",
   "execution_count": null,
   "id": "77e45fa9",
   "metadata": {},
   "outputs": [],
   "source": [
    "prob_distribution = \n",
    "\n",
    "conn_exc = {'rule': ,\n",
    "            'p': prob_distribution}"
   ]
  },
  {
   "cell_type": "markdown",
   "id": "9ab9b5f0",
   "metadata": {},
   "source": [
    "Connecting the layers of neurons works just like regular NEST:"
   ]
  },
  {
   "cell_type": "code",
   "execution_count": null,
   "id": "977de9df",
   "metadata": {},
   "outputs": [],
   "source": []
  },
  {
   "cell_type": "markdown",
   "id": "74b6d44d",
   "metadata": {},
   "source": [
    "Let's see what this connectivity actually looks like in space. "
   ]
  },
  {
   "cell_type": "code",
   "execution_count": null,
   "id": "7ebae06d",
   "metadata": {},
   "outputs": [],
   "source": [
    "fig_e = nest.PlotLayer(layer_e, nodecolor='cornflowerblue', nodesize=80)\n",
    "\n",
    "source = layer_e[5]\n",
    "target_plot = nest.PlotTargets(source, layer_e, fig=fig_e,\n",
    "                 probability_parameter=prob_distribution,\n",
    "                 src_size=250, tgt_color='moccasin', tgt_size=20,\n",
    "                 probability_cmap='Purples')\n",
    "beautify_plot()\n",
    "target_plot.get_axes()[1].set_ylabel('connection probability')"
   ]
  },
  {
   "cell_type": "code",
   "execution_count": null,
   "id": "b61b932f",
   "metadata": {},
   "outputs": [],
   "source": [
    "fig_i = nest.PlotLayer(layer_i, nodecolor='tomato', nodesize=80)\n",
    "\n",
    "source = layer_i[5]\n",
    "target_plot = nest.PlotTargets(source, layer_i, fig=fig_i,\n",
    "                 src_size=250, tgt_color='moccasin', tgt_size=20,\n",
    "                 probability_cmap='Greens')\n",
    "beautify_plot()"
   ]
  },
  {
   "cell_type": "markdown",
   "id": "16ee54d9",
   "metadata": {},
   "source": [
    "## Simulate and analyze\n",
    "\n",
    "External input is again represented as Poisson input."
   ]
  },
  {
   "cell_type": "code",
   "execution_count": null,
   "id": "257f635e",
   "metadata": {},
   "outputs": [],
   "source": [
    "# create poisson generator and set 'rate' to p_rate\n",
    "\n",
    "\n",
    "# create spike recorder\n"
   ]
  },
  {
   "cell_type": "markdown",
   "id": "f9009ae2",
   "metadata": {},
   "source": [
    "connect poisson generator using the excitatory connection weight"
   ]
  },
  {
   "cell_type": "code",
   "execution_count": null,
   "id": "f972e8a9",
   "metadata": {},
   "outputs": [],
   "source": []
  },
  {
   "cell_type": "markdown",
   "id": "1b2789ab",
   "metadata": {},
   "source": [
    "Recording works by connecting the populations to recording devices."
   ]
  },
  {
   "cell_type": "markdown",
   "id": "b16fa805",
   "metadata": {},
   "source": [
    "connect excitatory / inhibitory neurons to spike recorder"
   ]
  },
  {
   "cell_type": "code",
   "execution_count": null,
   "id": "b6e1f7bd",
   "metadata": {},
   "outputs": [],
   "source": []
  },
  {
   "cell_type": "markdown",
   "id": "e459894e",
   "metadata": {},
   "source": [
    "### Run the simulation"
   ]
  },
  {
   "cell_type": "markdown",
   "id": "4b5d6452",
   "metadata": {
    "lines_to_next_cell": 2
   },
   "source": [
    "simulate"
   ]
  },
  {
   "cell_type": "markdown",
   "id": "7d2b7b1d",
   "metadata": {},
   "source": [
    "Creating a raster plot gives a first glimpse of the network activity."
   ]
  },
  {
   "cell_type": "code",
   "execution_count": null,
   "id": "f360045f",
   "metadata": {},
   "outputs": [],
   "source": [
    "# raster plot of spiking activity using nest.raster_plot\n",
    "nest.raster_plot.from_device(spikes_e, hist=False, title='excitatory neurons')\n",
    "plt.xlim(0, 1000)\n",
    "plt.ylim(0, NE)\n",
    "nest.raster_plot.from_device(spikes_i, hist=False, title='inhibitory neurons')\n",
    "plt.xlim(0, 1000)\n",
    "plt.ylim(NE, NE+NI)"
   ]
  },
  {
   "cell_type": "markdown",
   "id": "4c111b09",
   "metadata": {},
   "source": [
    "## Spatial activity\n",
    "\n",
    "How does the activity propagate across space?"
   ]
  },
  {
   "cell_type": "code",
   "execution_count": null,
   "id": "bc0ce6c5",
   "metadata": {},
   "outputs": [],
   "source": [
    "senders = spikes_e.events['senders']\n",
    "spikes = spikes_e.events['times']"
   ]
  },
  {
   "cell_type": "code",
   "execution_count": null,
   "id": "064b1c7a",
   "metadata": {},
   "outputs": [],
   "source": [
    "import numpy as np\n",
    "def instantaneous_rate(global_ids, spikes, senders, t, bin_width = 100):\n",
    "    \n",
    "    window = [t - bin_width / 2, t + bin_width / 2]\n",
    "    rates = np.empty(len(global_ids))\n",
    "    \n",
    "    for i, global_id in enumerate(global_ids):\n",
    "        spikes_id = spikes[senders == global_id]\n",
    "        rates[i] = np.sum((window[0] < spikes_id) * (spikes_id < window[1]))\n",
    "    \n",
    "    return rates / bin_width * 1e3"
   ]
  },
  {
   "cell_type": "code",
   "execution_count": null,
   "id": "940104f3",
   "metadata": {},
   "outputs": [],
   "source": [
    "import matplotlib.animation as animation\n",
    "     \n",
    "def update_plot(i, data, scat, time):\n",
    "    scat.set_array(data[i])\n",
    "    plt.title(f'Instantaneous firing rate\\n elapsed time: {int(time[i])} ms')\n",
    "    return scat,\n",
    "\n",
    "def firing_rate_over_time(neurons, spikes, senders, bin_width = 1000, delta_t = 50, interval=10,\n",
    "                          spikes_with_pulse=None, senders_with_pulse=None):\n",
    "    \n",
    "    # extract spatial positions\n",
    "    x = np.asarray(neurons.spatial['positions'])[:,0]\n",
    "    y = np.asarray(neurons.spatial['positions'])[:,1]\n",
    "    \n",
    "    # calculate time range over which to animate\n",
    "    t_range = np.arange(bin_width / 2, simtime - (bin_width / 2) + delta_t, delta_t)\n",
    "    \n",
    "    # calculate instantaneous rate over time range\n",
    "    rate = [instantaneous_rate(layer_e.global_id, spikes, senders, t) for t in t_range]\n",
    "    \n",
    "    # in case pulse is given, calculate relative rate change\n",
    "    if spikes_with_pulse is not None:\n",
    "        rate_with_pulse = [instantaneous_rate(layer_e.global_id, spikes_with_pulse,\n",
    "                                              senders_with_pulse, t) for t in t_range]\n",
    "        rate_difference = []\n",
    "        for i in range(len(rate)):\n",
    "            rate_difference.append(rate_with_pulse[i] - rate[i])\n",
    "        rate = rate_difference\n",
    "        title = 'Change of instantaneous firing rate with pulse'\n",
    "\n",
    "    # set up initial figure\n",
    "    fig = plt.figure()\n",
    "    scat = plt.scatter(x=x, y=y, c=rate[0], s=30)\n",
    "\n",
    "    # animation\n",
    "    ani = animation.FuncAnimation(fig, update_plot, frames=range(len(t_range)),\n",
    "                                  fargs=(rate, scat, t_range), interval=interval)\n",
    "    \n",
    "    # add colorbar and axis labels\n",
    "    plt.colorbar(label=r'$\\frac{spikes}{s}$')\n",
    "    plt.xlabel('cortical space x [mm]')\n",
    "    plt.ylabel('cortical space y [mm]')\n",
    "    \n",
    "    return ani"
   ]
  },
  {
   "cell_type": "code",
   "execution_count": null,
   "id": "8960d82e",
   "metadata": {},
   "outputs": [],
   "source": [
    "ani = firing_rate_over_time(layer_e, spikes, senders)\n",
    "plt.show()"
   ]
  },
  {
   "cell_type": "markdown",
   "id": "68762cc4",
   "metadata": {},
   "source": [
    "For the spatial connectivity to have a visible effect, the recurrent connectivity needs to be stronger. See what happens when you increase the weight by a factor of 10."
   ]
  },
  {
   "cell_type": "markdown",
   "id": "d24fa8ef",
   "metadata": {},
   "source": [
    "## Further material\n",
    "\n",
    "easy-to-read guide to spatial networks in NEST: https://nest-simulator.readthedocs.io/en/latest/guides/spatial/guide_spatially_structured_networks.html"
   ]
  }
 ],
 "metadata": {
  "jupytext": {
   "encoding": "# -*- coding: utf-8 -*-"
  },
  "kernelspec": {
   "display_name": "Python 3",
   "language": "python",
   "name": "python3"
  }
 },
 "nbformat": 4,
 "nbformat_minor": 5
}
