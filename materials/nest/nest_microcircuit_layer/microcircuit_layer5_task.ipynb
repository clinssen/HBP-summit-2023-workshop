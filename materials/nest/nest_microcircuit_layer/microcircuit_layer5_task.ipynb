{
 "cells": [
  {
   "cell_type": "markdown",
   "metadata": {},
   "source": [
    "# Layer 5 of the microcircuit model"
   ]
  },
  {
   "cell_type": "markdown",
   "metadata": {},
   "source": [
    "*NEST Tutorial. 2nd HBP School - Future Computing, August 3-9, 2015, Obergurgl, Austria. Johanna Senk - j.senk@fz-juelich.de*"
   ]
  },
  {
   "cell_type": "markdown",
   "metadata": {},
   "source": [
    "[1] Potjans, T. C., & Diesmann, M. (2014). The cell-type specific cortical microcircuit: relating structure and activity in a full-scale spiking network model. Cerebral Cortex 24(3):785-806"
   ]
  },
  {
   "cell_type": "code",
   "execution_count": null,
   "metadata": {
    "collapsed": false
   },
   "outputs": [],
   "source": [
    "%pylab inline"
   ]
  },
  {
   "cell_type": "markdown",
   "metadata": {},
   "source": [
    "First, import NEST and all necessary modules for simulation, analysis and plotting."
   ]
  },
  {
   "cell_type": "code",
   "execution_count": null,
   "metadata": {
    "collapsed": false
   },
   "outputs": [],
   "source": [
    "import nest\n",
    "import numpy as np\n",
    "import nest.raster_plot"
   ]
  },
  {
   "cell_type": "markdown",
   "metadata": {},
   "source": [
    "## Parameters"
   ]
  },
  {
   "cell_type": "markdown",
   "metadata": {},
   "source": [
    "The following parameters are extracted from [1], Table 5. Only layer 5 with its excitatory and inhibitory population will be simulated here."
   ]
  },
  {
   "cell_type": "markdown",
   "metadata": {},
   "source": [
    "**TODO** Fill in the missing parameters."
   ]
  },
  {
   "cell_type": "code",
   "execution_count": null,
   "metadata": {
    "collapsed": false
   },
   "outputs": [],
   "source": [
    "# simulation parameters\n",
    "T = 1000.                  # simulation time (ms)\n",
    "dt = 0.1                   # simulation resolution (ms)\n",
    "\n",
    "# network parameters\n",
    "#N_L5E = ???               # number of neurons in L5E\n",
    "#N_L5I = ???               # number of neurons in L5I\n",
    "    \n",
    "Nsyn_L5E_L5E = 2038173     # number of synapses with presynaptic neuron (pre) in L5E and postsynaptic neuron (post) in L5E \n",
    "Nsyn_L5E_L5I = 319602      # number of synapses with pre in L5E and post in L5I\n",
    "Nsyn_L5I_L5I = 430775      # number of synapses with pre in L5I and post in L5I\n",
    "Nsyn_L5I_L5E = 2411184     # number of synapses with pre in L5I and post in L5E\n",
    "\n",
    "K_L5E_ext = 2000           # indegree of excitatory neurons to external poisson drive\n",
    "K_L5I_ext = 1900           # indegree of inhibitory neurons to external poisson drive\n",
    "\n",
    "# neuron parameters\n",
    "neuron_params = {\n",
    "    'C_m'       : 250.,    # membrane capacity (pF)\n",
    "    'I_e'       : 0.0,     # external input current (pA)\n",
    "    'tau_m'     : 10.0,    # membrane time constant (ms)\n",
    "    't_ref'     : 2.0,     # absolute refractory period (ms)\n",
    "    'tau_syn_ex': 0.5,     # excitatory postsynaptic current time constant (ms)\n",
    "    'tau_syn_in': 0.5,     # inhibitory postsynaptic current time constant (ms)\n",
    "#    'V_reset'   : ???,    # reset potential (mV)\n",
    "    'E_L'       : -65.0,   # resting potential (mV)\n",
    "#    'V_th'      : ???     # spike threshold (mV)\n",
    "}\n",
    "\n",
    "# synapse parameters\n",
    "#w = ???                   # mean excitatory weight (pA)\n",
    "#sigma_w = ???             # standard deviation of excitatory weight (pA)\n",
    "#g = ???                   # relative inhibitory weight \n",
    "\n",
    "#de = ???                  # mean spike transmission delay for excitatory presynaptic neurons (ms)\n",
    "#sigma_de = ???            # standard deviation \n",
    "#di = ???                  # mean spike transmission delay for inhibitory presynaptic neurons (ms)\n",
    "#sigma_di = ???            # standard deviation\n",
    " \n",
    "# input parameters\n",
    "#bg_rate = ???             # external poisson rate (Hz)\n",
    "perturbation = False\n"
   ]
  },
  {
   "cell_type": "markdown",
   "metadata": {},
   "source": [
    "# 1) Create and connect neurons"
   ]
  },
  {
   "cell_type": "markdown",
   "metadata": {},
   "source": [
    "**TODO** Reset the simulation kernel for avoiding interferences with previous NEST simulations."
   ]
  },
  {
   "cell_type": "code",
   "execution_count": null,
   "metadata": {
    "collapsed": false
   },
   "outputs": [],
   "source": [
    "#nest.???"
   ]
  },
  {
   "cell_type": "code",
   "execution_count": null,
   "metadata": {
    "collapsed": false
   },
   "outputs": [],
   "source": [
    "nest.SetKernelStatus({'resolution': dt})      # set simulation resolution"
   ]
  },
  {
   "cell_type": "markdown",
   "metadata": {},
   "source": [
    "**TODO** Create the excitatory and inhibitory neuron populations with neurons of type 'iaf_psc_exp', the correct population sizes, and the given neuron parameters."
   ]
  },
  {
   "cell_type": "code",
   "execution_count": null,
   "metadata": {
    "collapsed": false
   },
   "outputs": [],
   "source": [
    "#pop_L5E = ???\n",
    "\n",
    "#pop_L5I = ???"
   ]
  },
  {
   "cell_type": "markdown",
   "metadata": {},
   "source": [
    "The excitatory connections (connections from L5E) are established.\n",
    "\n",
    "**TODO** Specify the connection dictionary 'conn_dict' for connections to L5E and to L5I. Which connection rule must be used (see connection_management.pdf)?"
   ]
  },
  {
   "cell_type": "code",
   "execution_count": null,
   "metadata": {
    "collapsed": false
   },
   "outputs": [],
   "source": [
    "# excitatory connections (connections from L5E)\n",
    "\n",
    "# specifying the synapse parameters\n",
    "weight_dict = {\n",
    "    'distribution': 'normal_clipped',\n",
    "    'mu': w,\n",
    "    'sigma': sigma_w,\n",
    "    'low': 0.0\n",
    "}\n",
    "delay_dict = {\n",
    "    'distribution': 'normal_clipped',\n",
    "    'mu': de,\n",
    "    'sigma': sigma_de,\n",
    "    'low' : 0.1\n",
    "}\n",
    "syn_dict = {\n",
    "    'weight': weight_dict,\n",
    "    'delay': delay_dict\n",
    "}\n",
    "\n",
    "# connections to L5E\n",
    "# specifying the connection parameters\n",
    "#conn_dict = {'rule': ???}\n",
    "nest.Connect(pop_L5E, pop_L5E, conn_dict, syn_dict)\n",
    "\n",
    "# connections to L5I\n",
    "#conn_dict = {???}\n",
    "nest.Connect(pop_L5E, pop_L5I, conn_dict, syn_dict)"
   ]
  },
  {
   "cell_type": "markdown",
   "metadata": {},
   "source": [
    "**TODO** Create the inhibitory connections (connections from L5I) in the same way as the excitatory ones. Pay attention where parameters must be adjusted."
   ]
  },
  {
   "cell_type": "code",
   "execution_count": null,
   "metadata": {
    "collapsed": false
   },
   "outputs": [],
   "source": [
    "# specifying the synapse parameters\n",
    "\n",
    "\n",
    "# connections to L5E\n",
    "\n",
    "\n",
    "# connections to L5I\n"
   ]
  },
  {
   "cell_type": "markdown",
   "metadata": {},
   "source": [
    "# 2) Create and connect devices"
   ]
  },
  {
   "cell_type": "markdown",
   "metadata": {},
   "source": [
    "Poisson generators simulate neuron firing with the statistics of Poisson processes. Here, they emulate external excitatory input to the network.\n",
    "\n",
    "**TODO** Create two poisson generators and connect them to the respective populations.\n",
    "The given external rate 'bg_rate' corresponds to the rate communicated by one synapse. How must the key 'rate' of the poisson generator's 'params' dictionary be set? The connection rule is 'all_to_all'. For weights and delays, just take the the mean values given for excitatory neurons."
   ]
  },
  {
   "cell_type": "code",
   "execution_count": null,
   "metadata": {
    "collapsed": false
   },
   "outputs": [],
   "source": [
    "# connections to L5E\n",
    "#poisson_generator_L5E = ???\n",
    "#nest.Connect(???)\n",
    "\n",
    "# connections to L5I\n",
    "#poisson_generator_L5I = ???\n",
    "#nest.Connect(???)"
   ]
  },
  {
   "cell_type": "markdown",
   "metadata": {},
   "source": [
    "**TODO** Set up and connect two spike detectors, one for each population."
   ]
  },
  {
   "cell_type": "code",
   "execution_count": null,
   "metadata": {
    "collapsed": false
   },
   "outputs": [],
   "source": [
    "#sd_L5E = \n",
    "\n",
    "#sd_L5I = "
   ]
  },
  {
   "cell_type": "markdown",
   "metadata": {},
   "source": [
    "# 4*) Perturbation"
   ]
  },
  {
   "cell_type": "markdown",
   "metadata": {},
   "source": [
    "**TODO (ADDITIONAL)** If 'perturbation == True' in the section with the parameter definitions above, the network shall experience a perturbation for a certain time interval during the simulation. In our case, the perturbation consists of an additional poisson generator which connects to 'N_pert' excitatory parrot neurons (Find the right model!) which then connect to L5E. Parrot neurons just repeat incoming spikes and, hence, can be used to generate correlated input."
   ]
  },
  {
   "cell_type": "code",
   "execution_count": null,
   "metadata": {
    "collapsed": false
   },
   "outputs": [],
   "source": [
    "#if perturbation == True:\n",
    "    \n",
    "    # parameters\n",
    "    #N_pert = 1000\n",
    "    #Nsyn_L5E_pert = 500000\n",
    "    #start = 100.\n",
    "    #stop = 300.\n",
    "    #pert_rate = 8.\n",
    "    \n",
    "    #poisson_generator_stimulus = ???\n",
    "    #parrot_neurons = ???\n",
    "    #nest.Connect(poisson_generator_stimulus, parrot_neurons, 'all_to_all')\n",
    "    \n",
    "    #weight_dict = {???}  \n",
    "    #delay_dict = {???}\n",
    "    #syn_dict = {'weight': weight_dict, 'delay': delay_dict}\n",
    "    \n",
    "    #conn_dict = ???\n",
    "    #nest.Connect(???) "
   ]
  },
  {
   "cell_type": "markdown",
   "metadata": {},
   "source": [
    "# 3) Run simulation and analysis"
   ]
  },
  {
   "cell_type": "markdown",
   "metadata": {},
   "source": [
    "**TODO** Run the simulation!"
   ]
  },
  {
   "cell_type": "code",
   "execution_count": null,
   "metadata": {
    "collapsed": false
   },
   "outputs": [],
   "source": [
    "#nest.???"
   ]
  },
  {
   "cell_type": "markdown",
   "metadata": {},
   "source": [
    "After the simulation, the spikes which were recorded with the spike detectors are read out. From each spike event, one can extract the spike time and the id of the sending neuron.\n",
    "\n",
    "**TODO** Read out the data for L5I in the same way as for L5E."
   ]
  },
  {
   "cell_type": "code",
   "execution_count": null,
   "metadata": {
    "collapsed": false
   },
   "outputs": [],
   "source": [
    "spike_senders_L5E = nest.GetStatus(sd_L5E)[0]['events']['senders']\n",
    "spike_times_L5E = nest.GetStatus(sd_L5E)[0]['events']['times']\n",
    "#spike_senders_L5I = ???\n",
    "#spike_times_L5I = ???\n",
    "\n",
    "# stack the data from the two populations\n",
    "spike_senders = np.hstack((spike_senders_L5E, spike_senders_L5I))\n",
    "spike_times = np.hstack((spike_times_L5E, spike_times_L5I))"
   ]
  },
  {
   "cell_type": "markdown",
   "metadata": {},
   "source": [
    "Finally, we create a raster plot to visualize the spiking activity of all neurons during the simulation ...\n",
    "\n",
    "**TODO** Just uncomment the following lines."
   ]
  },
  {
   "cell_type": "code",
   "execution_count": null,
   "metadata": {
    "collapsed": false
   },
   "outputs": [],
   "source": [
    "#pylab.plot(spike_times, spike_senders, 'k.', markersize=1)\n",
    "#pylab.xlim(0,T)\n",
    "#pylab.ylim(pop_L5E[0], pop_L5I[-1])\n",
    "#pylab.xlabel('time (ms)')\n",
    "#pylab.ylabel('neuron id')"
   ]
  },
  {
   "cell_type": "markdown",
   "metadata": {},
   "source": [
    "... and we compute the average firing rate for each population.\n",
    "\n",
    "**TODO** Determine the average rate per neuron by reading out the number of spikes registered by a spike detector during the simulation time. Pay attention to get the correct time units."
   ]
  },
  {
   "cell_type": "code",
   "execution_count": null,
   "metadata": {
    "collapsed": false
   },
   "outputs": [],
   "source": [
    "#rate_E = ???\n",
    "print(\"\\nFiring rate E = %.1f spikes/s\" % (rate_E))\n",
    "\n",
    "#rate_I = ???\n",
    "print(\"\\nFiring rate I = %.1f spikes/s\" % (rate_I))"
   ]
  },
  {
   "cell_type": "markdown",
   "metadata": {},
   "source": [
    "Besides, NEST also provides build-in plotting tools for creating raster plots.\n",
    "\n",
    "**TODO** Just uncomment the following lines."
   ]
  },
  {
   "cell_type": "code",
   "execution_count": null,
   "metadata": {
    "collapsed": false
   },
   "outputs": [],
   "source": [
    "#nest.raster_plot.from_device(sd_L5E, hist=True)\n",
    "#nest.raster_plot.from_device(sd_L5I, hist=True)"
   ]
  }
 ],
 "metadata": {
  "kernelspec": {
   "display_name": "Python 2",
   "language": "python",
   "name": "python2"
  },
  "language_info": {
   "codemirror_mode": {
    "name": "ipython",
    "version": 2
   },
   "file_extension": ".py",
   "mimetype": "text/x-python",
   "name": "python",
   "nbconvert_exporter": "python",
   "pygments_lexer": "ipython2",
   "version": "2.7.6"
  }
 },
 "nbformat": 4,
 "nbformat_minor": 0
}
