{
 "cells": [
  {
   "cell_type": "markdown",
   "id": "70ed2079",
   "metadata": {},
   "source": [
    "# PyNEST - Spatial Networks"
   ]
  },
  {
   "cell_type": "markdown",
   "id": "e92cdee1",
   "metadata": {},
   "source": [
    "**Modeling networks of spatial spiking neurons using NEST**\n",
    "\n",
    "**CNS 2021, 03.07.2021**\n",
    "\n",
    "**[Jasper Albers](mailto:j.albers@fz-juelich.de), [Barna Zajzon](mailto:b.zajzon@fz-juelich.de)**"
   ]
  },
  {
   "cell_type": "markdown",
   "id": "d68de573",
   "metadata": {},
   "source": [
    "<table><tr>\n",
    "<td> \n",
    "    <div style=\"text-align:center\">\n",
    "        <img src=\"img/sincich_2001.png\" alt=\"spatial connectivity\" width=\"1200\" align=\"left\"/> <br />\n",
    "    Sincich et al. (2001): Oriented Axon Projections in Primary Visual Cortex of the Monkey </div>\n",
    "</td>\n",
    "   \n",
    "<td> \n",
    "    <img width=\"200\"/>\n",
    "</td>\n",
    "    \n",
    "<td> \n",
    "    <div style=\"text-align:center\">\n",
    "        <img src=\"img/packer_2011.png\" alt=\"exponential profile\" width=\"300\" align=\"center\"/> <br />\n",
    "    Packer et al. (2011): Dense, Unspecific Connectivity of Neocortical Parvalbumin-Positive Interneurons: A Canonical Microcircuit for Inhibition? </div>\n",
    "</td>\n",
    "    \n",
    "</tr></table>"
   ]
  },
  {
   "cell_type": "markdown",
   "id": "3bd40d9e",
   "metadata": {},
   "source": [
    "In this notebook we will adapt the model of \n",
    "\n",
    "`Brunel (2000) Dynamics of sparsely connected networks of excitatory and inhibitory spiking neurons. Journal of Computational Neuroscience 8(3):183-208`\n",
    "\n",
    "to a spatial neural network and investigate the implications on dynamics."
   ]
  },
  {
   "cell_type": "code",
   "execution_count": null,
   "id": "aadd8ed3",
   "metadata": {},
   "outputs": [],
   "source": [
    "import matplotlib.pyplot as plt\n",
    "%matplotlib notebook\n",
    "# import NEST & NEST rasterplot\n",
    "import nest\n",
    "import nest.raster_plot"
   ]
  },
  {
   "cell_type": "markdown",
   "id": "e8eed1c8",
   "metadata": {},
   "source": [
    "___\n",
    "## Setup"
   ]
  },
  {
   "cell_type": "markdown",
   "id": "4b66e9a0",
   "metadata": {},
   "source": [
    "### Parameters -- same as before"
   ]
  },
  {
   "cell_type": "code",
   "execution_count": null,
   "id": "bf284e8c",
   "metadata": {},
   "outputs": [],
   "source": [
    "# simulation parameters\n",
    "simtime = 1000.            # simulation time (ms)\n",
    "dt = 0.1                   # simulation resolution (ms)\n",
    "\n",
    "# network parameters\n",
    "gamma = 0.25               # relative number of inhibitory connections\n",
    "NE = 5000                  # number of excitatory neurons (10.000 in [1])\n",
    "NI = int(gamma * NE)       # number of inhibitory neurons\n",
    "N_rec = 50                 # record from 100 (50 e + 50 i) neurons\n",
    "CE = 1000                  # indegree from excitatory neurons\n",
    "CI = int(gamma * CE)       # indegree from inhibitory neurons\n",
    "\n",
    "# synapse parameters\n",
    "w = 0.1                    # excitatory synaptic weight (mV)\n",
    "g = 5.                     # relative inhibitory to excitatory synaptic weight\n",
    "d = 1.5                    # synaptic transmission delay (ms)\n",
    "\n",
    "# neuron paramters\n",
    "V_th = 20.                 # spike threshold (mV)\n",
    "tau_m = 20.                # membrane time constant (ms)\n",
    "neuron_params = {\n",
    "    'C_m': 1.0,            # membrane capacity (pF)\n",
    "    'E_L': 0.,             # resting membrane potential (mV)\n",
    "    'I_e': 0.,             # external input current (pA)\n",
    "    'V_m': 0.,             # membrane potential (mV)\n",
    "    'V_reset': 10.,        # reset membrane potential after a spike (mV)\n",
    "    'V_th': V_th,          #\n",
    "    't_ref': 2.0,          # refractory period (ms)\n",
    "    'tau_m': tau_m,        #\n",
    "}\n",
    "\n",
    "# external input parameters\n",
    "nu_th = V_th / (w * tau_m) # external rate needed to evoke activity (spikes/ms)\n",
    "nu_ex = 2.0 * nu_th        # set external rate above threshold\n",
    "p_rate = 1e3 * nu_ex       # external rate (spikes/s)"
   ]
  },
  {
   "cell_type": "markdown",
   "id": "39c94390",
   "metadata": {},
   "source": [
    "### NEST initialization -- same as before"
   ]
  },
  {
   "cell_type": "code",
   "execution_count": null,
   "id": "a97a48a3",
   "metadata": {},
   "outputs": [],
   "source": [
    "# configure kernel\n",
    "nest.ResetKernel()\n",
    "nest.SetKernelStatus({\n",
    "    'resolution': dt,      # set simulation resolution\n",
    "    'print_time': True,    # enable printing of simulation progress (-> terminal)\n",
    "    'local_num_threads': 2 # use two threads to build & simulate the network\n",
    "})\n",
    "\n",
    "# set default parameters for neurons and create neurons\n",
    "nest.SetDefaults('iaf_psc_delta', neuron_params)\n",
    "\n",
    "# create poisson generator and set 'rate' to p_rate\n",
    "pgen = nest.Create('poisson_generator', params={'rate': p_rate})\n",
    "\n",
    "# create spike detectors\n",
    "spikes_e = nest.Create('spike_recorder')\n",
    "spikes_i = nest.Create('spike_recorder')"
   ]
  },
  {
   "cell_type": "markdown",
   "id": "3971ddfa",
   "metadata": {},
   "source": [
    "___\n",
    "## Spatially distributed neurons "
   ]
  },
  {
   "cell_type": "markdown",
   "id": "128ab394",
   "metadata": {},
   "source": [
    "We want to endow the neurons with the notion of space. This functionality is built right into NEST 3:"
   ]
  },
  {
   "cell_type": "code",
   "execution_count": null,
   "id": "3ce96ac2",
   "metadata": {},
   "outputs": [],
   "source": [
    "# define positions via a distribution in space (free, grid and list possible)\n",
    "pos_e = nest.spatial.free(\n",
    "           pos=nest.random.uniform(min=-0.5, max=0.5),\n",
    "           num_dimensions=2)\n",
    "pos_i = nest.spatial.free(\n",
    "           pos=nest.random.uniform(min=-0.5, max=0.5),\n",
    "           num_dimensions=2)\n",
    "\n",
    "# create layers of spatially distributed neurons according to position objects\n",
    "# TODO: Fill in \"...\"\n",
    "layer_e = nest.Create(model='iaf_psc_delta', n=..., positions=pos_e)\n",
    "layer_i = nest.Create(model='iaf_psc_delta', n=..., positions=pos_i)"
   ]
  },
  {
   "cell_type": "markdown",
   "id": "b3ec4ec9",
   "metadata": {},
   "source": [
    "Below we can check what these layers look like in 2D space."
   ]
  },
  {
   "cell_type": "code",
   "execution_count": null,
   "id": "e079c6fb",
   "metadata": {
    "scrolled": false
   },
   "outputs": [],
   "source": [
    "plot_e = nest.PlotLayer(layer_e, nodecolor='tomato')\n",
    "plt.title('excitatory neurons', figure=plot_e)\n",
    "\n",
    "plot_i = nest.PlotLayer(layer_i, nodecolor='cornflowerblue')\n",
    "plt.title('inhibitory neurons', figure=plot_i)"
   ]
  },
  {
   "cell_type": "markdown",
   "id": "1a3f84cc",
   "metadata": {},
   "source": [
    "## Spatial Connectivity\n",
    "\n",
    "Our neurons are now arranged in 2D layers. What will happen if we use the same connection methods as before?"
   ]
  },
  {
   "cell_type": "code",
   "execution_count": null,
   "id": "06c46273",
   "metadata": {},
   "outputs": [],
   "source": [
    "# synapse specification\n",
    "syn_exc = {'delay': d, 'weight': w}\n",
    "syn_inh = {'delay': d, 'weight': - g * w}\n",
    "\n",
    "# connection specification\n",
    "conn_inh = {'rule': 'fixed_indegree', 'indegree': CI}\n",
    "conn_exc = {'rule': 'fixed_indegree', 'indegree': CE}"
   ]
  },
  {
   "cell_type": "markdown",
   "id": "856b8488",
   "metadata": {},
   "source": [
    "Introducing the star of the show: spatial connectivity!"
   ]
  },
  {
   "cell_type": "code",
   "execution_count": null,
   "id": "bde43cec",
   "metadata": {},
   "outputs": [],
   "source": [
    "prob_distribution = nest.spatial_distributions.gaussian(nest.spatial.distance, mean=0., std=0.05)\n",
    "\n",
    "conn_exc = {'rule': 'pairwise_bernoulli',\n",
    "            'p': prob_distribution}"
   ]
  },
  {
   "cell_type": "markdown",
   "id": "721a5fdf",
   "metadata": {},
   "source": [
    "Connecting the layers of neurons works just as before:"
   ]
  },
  {
   "cell_type": "code",
   "execution_count": null,
   "id": "59fd23ba",
   "metadata": {},
   "outputs": [],
   "source": [
    "nest.Connect(layer_i, layer_e, conn_inh, syn_inh)\n",
    "\n",
    "#TODO: Fill in \"...\" to connect all populations to each other\n",
    "..."
   ]
  },
  {
   "cell_type": "markdown",
   "id": "c8e86add",
   "metadata": {},
   "source": [
    "Let's see what this connectivity actually looks like in space. "
   ]
  },
  {
   "cell_type": "code",
   "execution_count": null,
   "id": "024c990e",
   "metadata": {
    "scrolled": false
   },
   "outputs": [],
   "source": [
    "fig_e = nest.PlotLayer(layer_e, nodecolor='tomato', nodesize=80)\n",
    "\n",
    "source = layer_e[5]\n",
    "target_plot = nest.PlotTargets(source, layer_e, fig=fig_e,\n",
    "                 probability_parameter=prob_distribution,\n",
    "                 src_size=250, tgt_color='moccasin', tgt_size=20,\n",
    "                 probability_cmap='Purples')"
   ]
  },
  {
   "cell_type": "markdown",
   "id": "a7b942b3",
   "metadata": {},
   "source": [
    "TODO: change the source neuron by adapting the number in brackets in the third line of code above"
   ]
  },
  {
   "cell_type": "code",
   "execution_count": null,
   "id": "5b47a944",
   "metadata": {},
   "outputs": [],
   "source": [
    "fig_i = nest.PlotLayer(layer_i, nodecolor='cornflowerblue', nodesize=80)\n",
    "\n",
    "source = layer_i[5]\n",
    "target_plot = nest.PlotTargets(source, layer_i, fig=fig_i,\n",
    "                 src_size=250, tgt_color='moccasin', tgt_size=20,\n",
    "                 probability_cmap='Greens')"
   ]
  },
  {
   "cell_type": "markdown",
   "id": "64cc2b98",
   "metadata": {},
   "source": [
    "## Simulating the network"
   ]
  },
  {
   "cell_type": "markdown",
   "id": "0bbaff83",
   "metadata": {},
   "source": [
    "External input is again represented as Poisson input."
   ]
  },
  {
   "cell_type": "code",
   "execution_count": null,
   "id": "eda985e8",
   "metadata": {},
   "outputs": [],
   "source": [
    "# connect poisson generator using the excitatory connection weight\n",
    "nest.Connect(pgen, layer_i, syn_spec=syn_exc)\n",
    "nest.Connect(pgen, layer_e, syn_spec=syn_exc)"
   ]
  },
  {
   "cell_type": "markdown",
   "id": "35eb0860",
   "metadata": {},
   "source": [
    "Recording also works the same (--> spike recorders)"
   ]
  },
  {
   "cell_type": "code",
   "execution_count": null,
   "id": "bdc4ffcb",
   "metadata": {},
   "outputs": [],
   "source": [
    "# connect N_rec excitatory / inhibitory neurons to spike recorder\n",
    "nest.Connect(layer_e[:N_rec], spikes_e)\n",
    "nest.Connect(layer_i[:N_rec], spikes_i)"
   ]
  },
  {
   "cell_type": "code",
   "execution_count": null,
   "id": "079fc657",
   "metadata": {},
   "outputs": [],
   "source": [
    "# simulate\n",
    "nest.Simulate(simtime) "
   ]
  },
  {
   "cell_type": "code",
   "execution_count": null,
   "id": "78ddb8e3",
   "metadata": {},
   "outputs": [],
   "source": [
    "# calculate mean firing rate in spikes per second\n",
    "events_ex = nest.GetStatus(spikes_e, 'n_events')[0]\n",
    "events_in = nest.GetStatus(spikes_i, 'n_events')[0]\n",
    "rate_ex = events_ex / simtime / N_rec * 1e3\n",
    "rate_in = events_in / simtime / N_rec * 1e3\n",
    "mean_rate = (rate_ex + rate_in) / 2.\n",
    "print('Mean firing rate: {} Hz'.format(mean_rate))"
   ]
  },
  {
   "cell_type": "code",
   "execution_count": null,
   "id": "609649e4",
   "metadata": {},
   "outputs": [],
   "source": [
    "# raster plot of spiking activity using nest.raster_plot\n",
    "nest.raster_plot.from_device(spikes_e, hist=True)\n",
    "nest.raster_plot.from_device(spikes_i, hist=True)"
   ]
  },
  {
   "cell_type": "markdown",
   "id": "08c44864",
   "metadata": {},
   "source": [
    "What is the difference in the dynamical activity between the homogeneous and the spatially structured network?\n",
    "\n",
    "Would you have expected that?"
   ]
  },
  {
   "cell_type": "markdown",
   "id": "19844316",
   "metadata": {},
   "source": [
    "## Further material\n",
    "\n",
    "easy-to-read guide to spatial networks in NEST: https://nest-simulator.readthedocs.io/en/latest/guides/spatial/guide_spatially_structured_networks.html"
   ]
  }
 ],
 "metadata": {
  "kernelspec": {
   "display_name": "Python 3",
   "language": "python",
   "name": "python3"
  },
  "language_info": {
   "codemirror_mode": {
    "name": "ipython",
    "version": 3
   },
   "file_extension": ".py",
   "mimetype": "text/x-python",
   "name": "python",
   "nbconvert_exporter": "python",
   "pygments_lexer": "ipython3",
   "version": "3.9.5"
  }
 },
 "nbformat": 4,
 "nbformat_minor": 5
}
