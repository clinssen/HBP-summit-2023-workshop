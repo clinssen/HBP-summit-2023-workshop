{
 "cells": [
  {
   "cell_type": "markdown",
   "id": "70ed2079",
   "metadata": {},
   "source": [
    "# PyNEST - Spatial Networks"
   ]
  },
  {
   "cell_type": "markdown",
   "id": "e92cdee1",
   "metadata": {},
   "source": [
    "**Modeling networks of spiking neurons with modular connectivity using NEST**\n",
    "\n",
    "**CNS 2021, 03.07.2021**\n",
    "\n",
    "**[Jasper Albers](mailto:j.albers@fz-juelich.de), [Barna Zajzon](mailto:b.zajzon@fz-juelich.de)**"
   ]
  },
  {
   "cell_type": "markdown",
   "id": "d68de573",
   "metadata": {},
   "source": [
    "<table><tr>\n",
    "<td> \n",
    "    <div style=\"text-align:center\">\n",
    "        <img src=\"img/fig_modular_full.jpg\" alt=\"modular connectivity\" width=\"1000\" align=\"left\"/> <br />\n",
    "    Sequentially connected spiking networks with modular feed-forward connectivity </div>\n",
    "</td>\n",
    "   \n",
    "    \n",
    "</tr></table>"
   ]
  },
  {
   "cell_type": "markdown",
   "id": "e8eed1c8",
   "metadata": {},
   "source": [
    "___\n",
    "## Setup"
   ]
  },
  {
   "cell_type": "code",
   "execution_count": null,
   "id": "0f922fd3",
   "metadata": {},
   "outputs": [],
   "source": [
    "import copy\n",
    "import matplotlib.pyplot as plt\n",
    "# %matplotlib notebook\n",
    "# import NEST & NEST rasterplot\n",
    "import nest\n",
    "import nest.raster_plot\n",
    "import numpy as np\n",
    "from modularity import modular_matrix, print_weight_matrix, get_all_clusters"
   ]
  },
  {
   "cell_type": "markdown",
   "id": "b0025f70",
   "metadata": {},
   "source": [
    "Generating modular connectivity matrices, with parameter **m**:\n",
    "\n",
    "\\begin{align}\n",
    "m = 1 - \\frac{p_\\mathrm{out}}{p_\\mathrm{in}} \\\\\n",
    "\\end{align}\n",
    "where $p_\\mathrm{in}$ is the connection probability for neurons within the same cluster, and $p_\\mathrm{out}$ for neurons belonging to different clusters. These are chosen such that the overall connection density remains unchanged."
   ]
  },
  {
   "cell_type": "code",
   "execution_count": null,
   "id": "8f036cb0",
   "metadata": {
    "scrolled": true
   },
   "outputs": [],
   "source": [
    "n_cluster = 10\n",
    "N = 1000\n",
    "density = 0.1\n",
    "m = [0., 0.75, 1.]\n",
    "\n",
    "fig, ax = plt.subplots(1, len(m), figsize=(20, 6))\n",
    "\n",
    "for idx, mod in enumerate(m):\n",
    "    A = modular_matrix(layer=0, N=N, src_neurons=N, tgt_neurons=N, n_clusters=n_cluster, \n",
    "                       density=density, modularity=mod)\n",
    "    print_weight_matrix(A, label=\"m = {}\".format(mod), ax=ax[idx])\n",
    "\n",
    "plt.show()\n"
   ]
  },
  {
   "cell_type": "markdown",
   "id": "1bd03a95",
   "metadata": {},
   "source": [
    "#### Simulation parameters and NEST initialization"
   ]
  },
  {
   "cell_type": "code",
   "execution_count": null,
   "id": "295c3cc6",
   "metadata": {},
   "outputs": [],
   "source": [
    "# simulation parameters\n",
    "simtime = 2000.  # simulation time (ms)\n",
    "dt = 0.1  # simulation resolution (ms)\n",
    "\n",
    "# configure kernel\n",
    "nest.ResetKernel()\n",
    "nest.SetKernelStatus({\n",
    "    'resolution': dt,      # set simulation resolution\n",
    "    'local_num_threads': 6 # use two threads to build & simulate the network\n",
    "})"
   ]
  },
  {
   "cell_type": "markdown",
   "id": "4c8367f4",
   "metadata": {},
   "source": [
    "#### Model parameters"
   ]
  },
  {
   "cell_type": "code",
   "execution_count": null,
   "id": "fff58710",
   "metadata": {},
   "outputs": [],
   "source": [
    "# network parameters\n",
    "gamma = 0.25          # relative number of inhibitory connections\n",
    "N = 5000\n",
    "NE = int(0.8 * N)     # number of excitatory neurons (10.000 in [1])\n",
    "NI = int(gamma * NE)  # number of inhibitory neurons\n",
    "N_rec = 1000          # record from 100 (50 e + 50 i) neurons\n",
    "CE = int(NE * 0.1)    # indegree from excitatory neurons\n",
    "CI = int(gamma * CE)  # indegree from inhibitory neurons\n",
    "\n",
    "# layer parameters\n",
    "n_layers = 2        # CHANGEME\n",
    "modularity = 0.5    # CHANGEME [0., 1.]\n",
    "ff_density = 0.075  # density of feed-forward connectivity matrix (keep it fixed)\n",
    "\n",
    "# synapse parameters\n",
    "w = 32.28 * 1.2     # excitatory synaptic weight (mV)\n",
    "g = 12.             # relative inhibitory to excitatory synaptic weight\n",
    "d = 1.5             # synaptic transmission delay (ms)\n",
    "\n",
    "# neuron paramters\n",
    "V_th = -55.  # spike threshold (mV)\n",
    "E_L = -70.   # resting membrane potential (mV)\n",
    "tau_m = 20.  # membrane time constant (ms)\n",
    "neuron_params = {\n",
    "    'C_m': 250.0,     # membrane capacity (pF)\n",
    "    'E_L': E_L,       # resting membrane potential (mV)\n",
    "    'I_e': 0.,        # external input current (pA)\n",
    "    'V_m': -70.,      # membrane potential (mV)\n",
    "    'V_reset': -70.,  # reset membrane potential after a spike (mV)\n",
    "    'V_th': V_th,     #\n",
    "    't_ref': 2.0,     # refractory period (ms)\n",
    "    'tau_m': tau_m,   #\n",
    "}\n",
    "\n",
    "# external input parameters\n",
    "nu_ex = 12.                                    # baseline input (spikes/s)"
   ]
  },
  {
   "cell_type": "markdown",
   "id": "6d9018d3",
   "metadata": {},
   "source": [
    "#### Create layers"
   ]
  },
  {
   "cell_type": "code",
   "execution_count": null,
   "id": "bf284e8c",
   "metadata": {},
   "outputs": [],
   "source": [
    "# synapse specification\n",
    "syn_exc = {'delay': d, 'weight': w}\n",
    "syn_inh = {'delay': d, 'weight': - g * w}\n",
    "\n",
    "# set default parameters for neurons and create neurons\n",
    "nest.SetDefaults('iaf_psc_exp', neuron_params)\n",
    "\n",
    "# create layers of E and I populations\n",
    "layers = {'E': [], 'I': []}\n",
    "\n",
    "for l in range(n_layers):\n",
    "    # create populations and randomize initial Vm values\n",
    "    layers['E'].append(nest.Create('iaf_psc_exp', NE, {'V_m': nest.random.uniform(min=E_L, max=V_th)}))\n",
    "    layers['I'].append(nest.Create('iaf_psc_exp', NI, {'V_m': nest.random.uniform(min=E_L, max=V_th)}))"
   ]
  },
  {
   "cell_type": "markdown",
   "id": "39c94390",
   "metadata": {},
   "source": [
    "#### Connect layers sequentially"
   ]
  },
  {
   "cell_type": "code",
   "execution_count": null,
   "id": "b14dc998",
   "metadata": {},
   "outputs": [],
   "source": [
    "# create modular feed-forward connection matrices and connect layers\n",
    "for l in range(n_layers - 1):\n",
    "    A_exc = modular_matrix(layer=l, N=N, src_neurons=NE, tgt_neurons=NE,\n",
    "                           n_clusters=n_cluster, density=ff_density, modularity=modularity)\n",
    "    A_inh = modular_matrix(layer=l, N=N, src_neurons=NE, tgt_neurons=NI,\n",
    "                           n_clusters=n_cluster, density=ff_density, modularity=modularity)\n",
    "\n",
    "    # concatenate E->E and E->I matrices for speedup\n",
    "    A_full = np.concatenate((A_exc, A_inh), axis=1)\n",
    "    \n",
    "    # to create connections based on a weight/adjacency matrix (pre X post), \n",
    "    # just iterate the pre-synaptic neurons and connect one row at a time\n",
    "    for i, pre in enumerate(layers['E'][l]):\n",
    "        layer_e_next = layers['E'][l+1]\n",
    "        layer_i_next = layers['I'][l+1]\n",
    "\n",
    "        tgt_j = ...\n",
    "        post_nodes = layer_e_next[tgt_j]\n",
    "        # connect pre-synaptic neuron to post-synaptic targets\n",
    "        ...\n",
    "\n",
    "        # connections to I population\n",
    "        ...\n",
    "\n",
    "# get NodeCollections for all clusters in each layer \n",
    "# in the form: {'E': [..], 'I': [..]}\n",
    "clusters = get_all_clusters(n_layers, n_cluster, N, NE, NI)"
   ]
  },
  {
   "cell_type": "markdown",
   "id": "4c589058",
   "metadata": {},
   "source": [
    "#### Recurrent connections"
   ]
  },
  {
   "cell_type": "code",
   "execution_count": null,
   "id": "a97a48a3",
   "metadata": {},
   "outputs": [],
   "source": [
    "# recurrent connection specification within each layer (fixed indegrees)\n",
    "conn_exc = {...}\n"
   ]
  },
  {
   "cell_type": "markdown",
   "id": "42269075",
   "metadata": {},
   "source": [
    "#### Background input"
   ]
  },
  {
   "cell_type": "code",
   "execution_count": null,
   "id": "a149af00",
   "metadata": {},
   "outputs": [],
   "source": [
    "# background input parameters\n",
    "noise_scale_deep = 0.4                         # reduce noise in the deeper layers\n",
    "p_rate_bg_inp = CE * nu_ex                     # rate of background input in input layer (L1)\n",
    "p_rate_bg_deep = CE * nu_ex * noise_scale_deep # rate of background input in deeper layers (L > 1)\n",
    "\n",
    "# create poisson generators for background input \n",
    "# with rates `p_rate_bg_inp` for L1 and `p_rate_bg_deep` for the rest\n",
    "..."
   ]
  },
  {
   "cell_type": "markdown",
   "id": "3811ea6e",
   "metadata": {},
   "source": [
    "#### Stimulus input"
   ]
  },
  {
   "cell_type": "code",
   "execution_count": null,
   "id": "5d98a61a",
   "metadata": {},
   "outputs": [],
   "source": [
    "# create stimulus input: 200 ms pulses (step signal) at various times\n",
    "stim_scaling = 0.15                      # scale stimulus input\n",
    "p_rate_stim1 = CE * nu_ex * stim_scaling # rate of stimulus input (spikes/s)\n",
    "p_rate_stim2 = p_rate_stim1 * 1.         # CHANGEME! we can vary the relative stimulus intensities \n",
    "\n",
    "# we use 2 `inhomogeneous_poisson_generator` devices, and set their rate \n",
    "# to `p_rate_stim` for 200 ms at various times\n",
    "pgen_stim1 = nest.Create('inhomogeneous_poisson_generator', \n",
    "                         params={'rate_times': [400., 600., 1600.],\n",
    "                                 'rate_values': [p_rate_stim1, 0., p_rate_stim1]})\n",
    "\n",
    "# connect stimulus to first cluster (E and I) in L1, using the excitatory connection weight\n",
    "nest.Connect(pgen_stim1, clusters['E'][0][0], syn_spec=syn_exc)\n",
    "nest.Connect(pgen_stim1, clusters['I'][0][0], syn_spec=syn_exc)\n",
    "\n",
    "# create a second stimulus with rate p_rate_stim2 and different times,\n",
    "# and connect it to a different cluster in L1\n",
    "...\n"
   ]
  },
  {
   "cell_type": "markdown",
   "id": "a926e6fa",
   "metadata": {},
   "source": [
    "#### Create and connect recording devices"
   ]
  },
  {
   "cell_type": "code",
   "execution_count": null,
   "id": "0dbb3f22",
   "metadata": {},
   "outputs": [],
   "source": [
    "# create spike detectors\n",
    "spkrec_layers_e = [nest.Create('spike_recorder') for _ in range(n_layers)]\n",
    "spkrec_cluster1_e = [nest.Create('spike_recorder') for _ in range(n_layers)]\n",
    "\n",
    "# connect N_rec excitatory\n",
    "ids_to_rec = np.random.choice(np.arange(1, NE), size=N_rec, replace=False)\n",
    "for idx in range(n_layers):\n",
    "    subset = np.zeros(NE).astype(bool)\n",
    "    subset[ids_to_rec] = True\n",
    "    nest.Connect(layers['E'][idx][subset], spkrec_layers_e[idx])\n",
    "    nest.Connect(clusters['E'][idx][0], spkrec_cluster1_e[idx])"
   ]
  },
  {
   "cell_type": "markdown",
   "id": "45ec11d6",
   "metadata": {},
   "source": [
    "#### Run simulation and plot activity"
   ]
  },
  {
   "cell_type": "code",
   "execution_count": null,
   "id": "07d725f8",
   "metadata": {},
   "outputs": [],
   "source": [
    "# simulate\n",
    "nest.Simulate(simtime)\n",
    "cluster_size_e = len(clusters['E'][idx][0])  # size of an excitatory cluster\n",
    "\n",
    "print(\"Firing rates (layer, cluster)\")\n",
    "for l in range(n_layers):\n",
    "    rate_l_ex = spkrec_layers_e[l].get('n_events') / simtime / N_rec * 1e3\n",
    "    rate_cl_ex = spkrec_cluster1_e[l].get('n_events') / simtime / cluster_size_e * 1e3\n",
    "    print(\"Layer {}: {}\\t{}\".format(l, rate_l_ex, rate_cl_ex))\n",
    "\n",
    "    nest.raster_plot.from_device(spkrec_layers_e[l], hist=True)\n",
    "plt.show()"
   ]
  },
  {
   "cell_type": "markdown",
   "id": "e7562db0",
   "metadata": {},
   "source": [
    "#### If you'd like to know more about stimulus denoising through modular topography, drop by at poster P48."
   ]
  }
 ],
 "metadata": {
  "kernelspec": {
   "display_name": "Python 3",
   "language": "python",
   "name": "python3"
  },
  "language_info": {
   "codemirror_mode": {
    "name": "ipython",
    "version": 3
   },
   "file_extension": ".py",
   "mimetype": "text/x-python",
   "name": "python",
   "nbconvert_exporter": "python",
   "pygments_lexer": "ipython3",
   "version": "3.8.5"
  }
 },
 "nbformat": 4,
 "nbformat_minor": 5
}
